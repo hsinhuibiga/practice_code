{
 "cells": [
  {
   "cell_type": "markdown",
   "id": "db7eca91",
   "metadata": {},
   "source": [
    "GUI example"
   ]
  },
  {
   "cell_type": "code",
   "execution_count": null,
   "id": "9f8111ba",
   "metadata": {},
   "outputs": [],
   "source": [
    "import numpy as np\n",
    "from IPython.display import display\n",
    "import ipywidgets as widgets"
   ]
  },
  {
   "cell_type": "code",
   "execution_count": null,
   "id": "fe970dd5",
   "metadata": {},
   "outputs": [],
   "source": [
    "ALL= 'ALL'\n",
    "def unique_sorted_values_plus_ALL(array):\n",
    "    unique = array.unique().tolist()\n",
    "    unique.sort()\n",
    "    unique.insert(0, ALL)\n",
    "    return unique"
   ]
  },
  {
   "cell_type": "code",
   "execution_count": null,
   "id": "c1d2bfcb",
   "metadata": {},
   "outputs": [],
   "source": [
    "dropdown_year=widgets.Dropdown(options=unique_sorted_values_plus_ALL(df_london.year))\n",
    "\n",
    "output_year=widgets.Output()\n",
    "\n",
    "def dropdown_year_eventhandler(change):\n",
    "    output_year.clear_output()\n",
    "    with output_year:\n",
    "        if (change.new==ALL):\n",
    "            display(df_london)\n",
    "        else:\n",
    "            display(df_london[df_london.year==change.new])\n",
    "dropdown_year.observe(dropdown_year_eventhandler, names='value')\n",
    "\n",
    "display(dropdown_year)"
   ]
  },
  {
   "cell_type": "code",
   "execution_count": null,
   "id": "8b1d32bc",
   "metadata": {},
   "outputs": [],
   "source": []
  },
  {
   "cell_type": "markdown",
   "id": "4b891505",
   "metadata": {},
   "source": [
    "creating a dashboard"
   ]
  },
  {
   "cell_type": "code",
   "execution_count": null,
   "id": "6b6d5f1f",
   "metadata": {},
   "outputs": [],
   "source": [
    "output= widgets.Output()\n",
    "\n",
    "dropdown_year=widgets.Dropdown(options=unique_sorted_values_plus_ALL(df_london.year), description='Year:')\n",
    "dropdown_purpose = widgets.Dropdown(options = unique_sorted_values_plus_ALL)(df_london.purpose), description='Purpose:')\n",
    "\n",
    "bounded_num = widgets.BoundedFloatText(min=0, max=100000, value=5, step=1, description='Number:')\n",
    "    \n",
    "def common_filtering(year, purpose, num):\n",
    "    output.clear_output()\n",
    "    \n",
    "    if (year == ALL) & (purpose == ALL):\n",
    "        common_filter = df_london\n",
    "    elif (year == ALL):\n",
    "        common_filter = df_london[df_london.purpose==purpose]\n",
    "    elif (purpose==ALL):\n",
    "        common_filter = df_london[df_london.year==year]\n",
    "    else:\n",
    "        common_filter= df_london[(df_london.year == year) & (df_london.purpose==purpose)]\n",
    "    with output:\n",
    "        display(common_filter.style.applymap(lambda x: colour_ge_value(x, num),subset=['visits','spend', 'nights']))\n",
    "\n",
    "def dropdown_year_eventhandler(change):\n",
    "    common_filtering(change.new, dropdown_purpose.value,bounded_num.value)\n",
    "\n",
    "def dropdown_purpose_eventhandler(change):\n",
    "    common_filtering(dropdown_year.value, change.new, bounded_num.value)\n",
    "    \n",
    "def bounded_num_eventhandler(change):\n",
    "    common_filtering(dropdown_year.value, dropdown_purpose.value, change.new)\n",
    "\n",
    "dropdown_year.observe(dropdown_year_eventhandler, names='value')\n",
    "dropdown_purpose.observe(dropdown_purpose_eventhandler, names='value')\n",
    "bounded_num.observe(bounded_num_eventhandler, names='value')\n",
    "\n",
    "display(dropdown_year)\n",
    "display(dropdown_purpose)\n",
    "display(bounded_num)"
   ]
  },
  {
   "cell_type": "code",
   "execution_count": null,
   "id": "50a2b57c",
   "metadata": {},
   "outputs": [],
   "source": [
    "#如果需要顏色才使用\n",
    "def colour_ge_value(value, comparison):\n",
    "    if value >= comparison:\n",
    "        return 'color: red'\n",
    "    else:\n",
    "        return 'color: black'"
   ]
  },
  {
   "cell_type": "code",
   "execution_count": null,
   "id": "b804fdc3",
   "metadata": {},
   "outputs": [],
   "source": []
  },
  {
   "cell_type": "markdown",
   "id": "dfa079bd",
   "metadata": {},
   "source": [
    "Dashboard Layout"
   ]
  },
  {
   "cell_type": "code",
   "execution_count": null,
   "id": "3e79cc6a",
   "metadata": {},
   "outputs": [],
   "source": [
    "item_layout = widgets.Layout(margin='0 0 50px 0')\n",
    "\n",
    "input_widgets = widgets.HBox([dropdown_year, dropdown_purpose, bounded_num]) #display(input_widgets)\n",
    "\n",
    "tab = widgets.Tab([output, plot_output], layout=item_layout)\n",
    "tab.set_title(0, 'Dataset Exploration')\n",
    "tab.set_title(1, 'KDE Plot')  #display(tab)\n",
    "\n",
    "dashboard = widgets.VBox([input_widgets, tab]) \n",
    "display(dashboard)\n"
   ]
  },
  {
   "cell_type": "code",
   "execution_count": null,
   "id": "a3447228",
   "metadata": {},
   "outputs": [],
   "source": [
    "#此部分為HBox\n",
    "input_widgets = widgets.HBox(\n",
    "[dropdown_year, dropdown_purpose, bounded_num],\n",
    "layout=item_layout)tab = widgets.Tab([output, plot_output],\n",
    "layout=item_layout)"
   ]
  },
  {
   "cell_type": "code",
   "execution_count": null,
   "id": "da077a37",
   "metadata": {},
   "outputs": [],
   "source": []
  },
  {
   "cell_type": "markdown",
   "id": "5a645508",
   "metadata": {},
   "source": [
    "參考資料：https://towardsdatascience.com/bring-your-jupyter-notebook-to-life-with-interactive-widgets-bc12e03f0916"
   ]
  },
  {
   "cell_type": "code",
   "execution_count": null,
   "id": "485d4b9a",
   "metadata": {},
   "outputs": [],
   "source": []
  }
 ],
 "metadata": {
  "kernelspec": {
   "display_name": "Python 3 (ipykernel)",
   "language": "python",
   "name": "python3"
  },
  "language_info": {
   "codemirror_mode": {
    "name": "ipython",
    "version": 3
   },
   "file_extension": ".py",
   "mimetype": "text/x-python",
   "name": "python",
   "nbconvert_exporter": "python",
   "pygments_lexer": "ipython3",
   "version": "3.7.15"
  }
 },
 "nbformat": 4,
 "nbformat_minor": 5
}
